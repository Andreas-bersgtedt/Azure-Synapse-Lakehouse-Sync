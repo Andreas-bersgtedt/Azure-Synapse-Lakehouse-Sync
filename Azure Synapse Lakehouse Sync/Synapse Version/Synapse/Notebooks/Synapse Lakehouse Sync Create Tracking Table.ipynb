{
  "nbformat": 4,
  "nbformat_minor": 2,
  "metadata": {
    "kernelspec": {
      "name": "synapse_pyspark",
      "display_name": "python"
    },
    "language_info": {
      "name": "python"
    },
    "save_output": true,
    "synapse_widget": {
      "version": "0.1",
      "state": {}
    }
  },
  "cells": [
    {
      "cell_type": "markdown",
      "metadata": {
        "application/vnd.databricks.v1+cell": {
          "showTitle": false,
          "nuid": "6c05f6f4-604c-4ed0-aeae-8703f08306df",
          "title": ""
        }
      },
      "source": [
        "### Synapse Lakekhouse Sync Create Tracking Table\n",
        "**This notebook calls the ClosedEntry function that updates the log entry record that the sync was a sucess in the _SynapseLakehouseTracking table.**\n",
        "\n",
        "#### Steps\n",
        "1. Import the Synapse Lakehouse Sync Functions\n",
        "2. Standardize the ADLS path provided\n",
        "3. Instantiant the Tracker class\n",
        "4. Call the CloseEntry function to update the Tracker record that the sync was successful\n",
        "\n",
        "#### Notebook Parameters\n",
        "- **PoolName** - The Synapse Dedicated Pool name that the data will be loaded into\n",
        "- **DataLakeName** - The ADLS storage account name where the _SynapseLakehouseSync table will be created\n",
        "- **SyncFolderPathFull** - The full path in either abfss or https format that the CDC changes will be loaded to as well as where the _SynapseLakehouseSync delta table is stored"
      ]
    },
    {
      "cell_type": "code",
      "execution_count": null,
      "outputs": [],
      "metadata": {
        "jupyter": {
          "source_hidden": false,
          "outputs_hidden": false
        },
        "nteract": {
          "transient": {
            "deleting": false
          }
        },
        "tags": [
          "parameters"
        ]
      },
      "source": [
        "SynapseLakehouseSyncParameters = '''\r\n",
        "{\r\n",
        "    \"PoolName\": \"DataWarehouse\",\r\n",
        "    \"SynapseWorkspaceName\": \"SynapseWorkspaceName\",\r\n",
        "    \"SynapseSyncDataADLSFullPath\": \"abfss://gold@enterprisedatalakeqbq.dfs.core.windows.net/Sample/\"\r\n",
        "}\r\n",
        "'''"
      ]
    },
    {
      "cell_type": "code",
      "execution_count": 0,
      "outputs": [],
      "metadata": {
        "application/vnd.databricks.v1+cell": {
          "showTitle": true,
          "nuid": "a54fb37c-f1e4-4dc9-ac12-b33700406cce",
          "title": "Parameters"
        },
        "tags": []
      },
      "source": [
        "import json\n",
        "\n",
        "SynapseLakehouseSyncParameters = json.loads(SynapseLakehouseSyncParameters)\n",
        "\n",
        "print(json.dumps(SynapseLakehouseSyncParameters, indent=4))"
      ]
    },
    {
      "cell_type": "code",
      "execution_count": 0,
      "outputs": [],
      "metadata": {
        "application/vnd.databricks.v1+cell": {
          "showTitle": true,
          "nuid": "a930cf13-d390-415d-916d-7f411844c56a",
          "title": "Import Functions"
        }
      },
      "source": [
        "%run \"/Synapse Lakehouse Sync/Synapse Lakehouse Sync Functions\""
      ]
    },
    {
      "cell_type": "code",
      "execution_count": 0,
      "outputs": [],
      "metadata": {
        "application/vnd.databricks.v1+cell": {
          "showTitle": true,
          "nuid": "870f0b93-0d7c-48ee-92a3-866a0c963d81",
          "title": "Standardize Folder Paths"
        }
      },
      "source": [
        "SyncFolderPathDict = UnifyFolderPaths('SynapseSync', f'{SynapseLakehouseSyncParameters[\"SynapseSyncDataADLSFullPath\"].rstrip(\"/\")}')\n",
        "\n",
        "print(SyncFolderPathDict)"
      ]
    },
    {
      "cell_type": "code",
      "execution_count": 0,
      "outputs": [],
      "metadata": {
        "application/vnd.databricks.v1+cell": {
          "showTitle": false,
          "nuid": "600b240c-6c0a-4e8b-9d50-c847b5b94dcf",
          "title": ""
        }
      },
      "source": [
        "print(GetAzureStorageAccountName(SynapseLakehouseSyncParameters['SynapseSyncDataADLSFullPath']))"
      ]
    },
    {
      "cell_type": "code",
      "execution_count": 0,
      "outputs": [],
      "metadata": {
        "application/vnd.databricks.v1+cell": {
          "showTitle": true,
          "nuid": "e91a1cf8-cd30-486b-85b4-055e406f8aaf",
          "title": "Create the tracker table for the pool"
        }
      },
      "source": [
        "track = Tracker(SynapseWorkspaceName=SynapseLakehouseSyncParameters[\"SynapseWorkspaceName\"], PoolName=SynapseLakehouseSyncParameters['PoolName'], TrackerFolderPath=SyncFolderPathDict[\"SynapseSync_abfss\"])"
      ]
    }
  ]
}